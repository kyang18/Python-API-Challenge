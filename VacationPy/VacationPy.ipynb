{
 "cells": [
  {
   "source": [
    "## Part 2: VacationPy"
   ],
   "cell_type": "markdown",
   "metadata": {}
  },
  {
   "cell_type": "code",
   "execution_count": 119,
   "metadata": {},
   "outputs": [],
   "source": [
    " # Dependencies\n",
    "import matplotlib.pyplot as plt\n",
    "import pandas as pd\n",
    "import numpy as np\n",
    "import requests\n",
    "import gmaps\n",
    "import os\n",
    "import json\n",
    "import time\n",
    "\n",
    "# Import API key\n",
    "from config import g_key\n",
    "\n",
    "#Configure gmaps\n",
    "gmaps.configure(api_key=g_key)"
   ]
  },
  {
   "cell_type": "code",
   "execution_count": 120,
   "metadata": {},
   "outputs": [
    {
     "output_type": "execute_result",
     "data": {
      "text/plain": [
       "   Unnamed: 0              City Country        Date      Lat       Lng  \\\n",
       "0           0      Norman Wells      CA  1620875887  65.2820 -126.8329   \n",
       "1           1  Muroto-misakicho      JP  1620875944  33.2833  134.1500   \n",
       "2           2         Saskylakh      RU  1620875845  71.9167  114.0833   \n",
       "3           3       New Norfolk      AU  1620875861 -42.7826  147.0587   \n",
       "4           4         Cape Town      ZA  1620875575 -33.9258   18.4232   \n",
       "\n",
       "   Max Temp  Clouds  Humidity  Wind Speed  \n",
       "0     40.28      90        81        2.30  \n",
       "1     71.56     100        84       10.85  \n",
       "2     32.95     100        91        6.85  \n",
       "3     61.45     100        79        5.01  \n",
       "4     54.86      20        84        2.77  "
      ],
      "text/html": "<div>\n<style scoped>\n    .dataframe tbody tr th:only-of-type {\n        vertical-align: middle;\n    }\n\n    .dataframe tbody tr th {\n        vertical-align: top;\n    }\n\n    .dataframe thead th {\n        text-align: right;\n    }\n</style>\n<table border=\"1\" class=\"dataframe\">\n  <thead>\n    <tr style=\"text-align: right;\">\n      <th></th>\n      <th>Unnamed: 0</th>\n      <th>City</th>\n      <th>Country</th>\n      <th>Date</th>\n      <th>Lat</th>\n      <th>Lng</th>\n      <th>Max Temp</th>\n      <th>Clouds</th>\n      <th>Humidity</th>\n      <th>Wind Speed</th>\n    </tr>\n  </thead>\n  <tbody>\n    <tr>\n      <th>0</th>\n      <td>0</td>\n      <td>Norman Wells</td>\n      <td>CA</td>\n      <td>1620875887</td>\n      <td>65.2820</td>\n      <td>-126.8329</td>\n      <td>40.28</td>\n      <td>90</td>\n      <td>81</td>\n      <td>2.30</td>\n    </tr>\n    <tr>\n      <th>1</th>\n      <td>1</td>\n      <td>Muroto-misakicho</td>\n      <td>JP</td>\n      <td>1620875944</td>\n      <td>33.2833</td>\n      <td>134.1500</td>\n      <td>71.56</td>\n      <td>100</td>\n      <td>84</td>\n      <td>10.85</td>\n    </tr>\n    <tr>\n      <th>2</th>\n      <td>2</td>\n      <td>Saskylakh</td>\n      <td>RU</td>\n      <td>1620875845</td>\n      <td>71.9167</td>\n      <td>114.0833</td>\n      <td>32.95</td>\n      <td>100</td>\n      <td>91</td>\n      <td>6.85</td>\n    </tr>\n    <tr>\n      <th>3</th>\n      <td>3</td>\n      <td>New Norfolk</td>\n      <td>AU</td>\n      <td>1620875861</td>\n      <td>-42.7826</td>\n      <td>147.0587</td>\n      <td>61.45</td>\n      <td>100</td>\n      <td>79</td>\n      <td>5.01</td>\n    </tr>\n    <tr>\n      <th>4</th>\n      <td>4</td>\n      <td>Cape Town</td>\n      <td>ZA</td>\n      <td>1620875575</td>\n      <td>-33.9258</td>\n      <td>18.4232</td>\n      <td>54.86</td>\n      <td>20</td>\n      <td>84</td>\n      <td>2.77</td>\n    </tr>\n  </tbody>\n</table>\n</div>"
     },
     "metadata": {},
     "execution_count": 120
    }
   ],
   "source": [
    "# Read Csv\n",
    "city_weather = pd.read_csv(\"../output_data/cities.csv\")\n",
    "city_weather.head()"
   ]
  },
  {
   "source": [
    "## Create a heatmap that displays the humidity for every city from Part 1"
   ],
   "cell_type": "markdown",
   "metadata": {}
  },
  {
   "cell_type": "code",
   "execution_count": 121,
   "metadata": {},
   "outputs": [],
   "source": [
    "#Use the Latitude and Longitude as locations\n",
    "locations = city_weather[[\"Lat\",\"Lng\"]]\n",
    "\n",
    "# Fill NaN values and convert to float\n",
    "humid = city_weather[\"Humidity\"]\n",
    "\n"
   ]
  },
  {
   "cell_type": "code",
   "execution_count": 125,
   "metadata": {},
   "outputs": [
    {
     "output_type": "display_data",
     "data": {
      "text/plain": "Figure(layout=FigureLayout(border='1px solid black', height='600px', margin='0 auto 0 auto', width='1000px'))",
      "application/vnd.jupyter.widget-view+json": {
       "version_major": 2,
       "version_minor": 0,
       "model_id": "6cc529a36f79432385b4a6a311ef2f84"
      }
     },
     "metadata": {}
    },
    {
     "output_type": "display_data",
     "data": {
      "text/plain": "<Figure size 432x288 with 0 Axes>"
     },
     "metadata": {}
    }
   ],
   "source": [
    "# Plot Heatmap\n",
    "figure_layout = {\n",
    "    'width': '1000px',\n",
    "    'height': '600px',\n",
    "    'border': '1px solid black',\n",
    "    'margin': '0 auto 0 auto'\n",
    "}\n",
    "\n",
    "#Plot heatmap\n",
    "figure = gmaps.figure(layout=figure_layout,zoom_level=2,center=(15,25))\n",
    "\n",
    "#Create heat layer\n",
    "heatlayer = gmaps.heatmap_layer(locations, weights=humid, \n",
    "                                 dissipating=False, max_intensity=100,\n",
    "                                 point_radius=1.5)\n",
    "\n",
    "figure.add_layer(heatlayer)\n",
    "\n",
    "\n",
    "#save fig to file\n",
    "plt.savefig(\"Images/heatmap.png\")\n",
    "\n",
    "figure"
   ]
  },
  {
   "source": [
    "## Narrow down the DF to find ideal weather conditions"
   ],
   "cell_type": "markdown",
   "metadata": {}
  },
  {
   "cell_type": "code",
   "execution_count": 126,
   "metadata": {},
   "outputs": [
    {
     "output_type": "execute_result",
     "data": {
      "text/plain": [
       "     Unnamed: 0            City Country        Date      Lat       Lng  \\\n",
       "105         105        Catalina      US  1620876237  32.5056 -110.9211   \n",
       "107         107           Aswān      EG  1620876237  24.0934   32.9070   \n",
       "125         125          Assiut      EG  1620875951  27.1810   31.1837   \n",
       "129         129  Port Macquarie      AU  1620875671 -31.4333  152.9167   \n",
       "309         309      Mossamedes      AO  1620875934 -15.1961   12.1522   \n",
       "\n",
       "     Max Temp  Clouds  Humidity  Wind Speed  \n",
       "105     76.82       0        11        7.20  \n",
       "107     76.28       0        18        7.56  \n",
       "125     71.98       0        23        4.43  \n",
       "129     72.88       0        64        8.90  \n",
       "309     73.17       0        66        2.91  "
      ],
      "text/html": "<div>\n<style scoped>\n    .dataframe tbody tr th:only-of-type {\n        vertical-align: middle;\n    }\n\n    .dataframe tbody tr th {\n        vertical-align: top;\n    }\n\n    .dataframe thead th {\n        text-align: right;\n    }\n</style>\n<table border=\"1\" class=\"dataframe\">\n  <thead>\n    <tr style=\"text-align: right;\">\n      <th></th>\n      <th>Unnamed: 0</th>\n      <th>City</th>\n      <th>Country</th>\n      <th>Date</th>\n      <th>Lat</th>\n      <th>Lng</th>\n      <th>Max Temp</th>\n      <th>Clouds</th>\n      <th>Humidity</th>\n      <th>Wind Speed</th>\n    </tr>\n  </thead>\n  <tbody>\n    <tr>\n      <th>105</th>\n      <td>105</td>\n      <td>Catalina</td>\n      <td>US</td>\n      <td>1620876237</td>\n      <td>32.5056</td>\n      <td>-110.9211</td>\n      <td>76.82</td>\n      <td>0</td>\n      <td>11</td>\n      <td>7.20</td>\n    </tr>\n    <tr>\n      <th>107</th>\n      <td>107</td>\n      <td>Aswān</td>\n      <td>EG</td>\n      <td>1620876237</td>\n      <td>24.0934</td>\n      <td>32.9070</td>\n      <td>76.28</td>\n      <td>0</td>\n      <td>18</td>\n      <td>7.56</td>\n    </tr>\n    <tr>\n      <th>125</th>\n      <td>125</td>\n      <td>Assiut</td>\n      <td>EG</td>\n      <td>1620875951</td>\n      <td>27.1810</td>\n      <td>31.1837</td>\n      <td>71.98</td>\n      <td>0</td>\n      <td>23</td>\n      <td>4.43</td>\n    </tr>\n    <tr>\n      <th>129</th>\n      <td>129</td>\n      <td>Port Macquarie</td>\n      <td>AU</td>\n      <td>1620875671</td>\n      <td>-31.4333</td>\n      <td>152.9167</td>\n      <td>72.88</td>\n      <td>0</td>\n      <td>64</td>\n      <td>8.90</td>\n    </tr>\n    <tr>\n      <th>309</th>\n      <td>309</td>\n      <td>Mossamedes</td>\n      <td>AO</td>\n      <td>1620875934</td>\n      <td>-15.1961</td>\n      <td>12.1522</td>\n      <td>73.17</td>\n      <td>0</td>\n      <td>66</td>\n      <td>2.91</td>\n    </tr>\n  </tbody>\n</table>\n</div>"
     },
     "metadata": {},
     "execution_count": 126
    }
   ],
   "source": [
    "#Narrow down the cities to find ideal weather condistion. For example: \n",
    "#A max temperature lower than 80 but higher than 70\n",
    "#Wind speed less than 10 mph\n",
    "#Zero cloudiness\n",
    "#Drop the rows that don't contain all three conditions\n",
    "narrowdown_df = city_weather.loc[(city_weather[\"Max Temp\"] > 70) & (city_weather[\"Max Temp\"] < 80)& (city_weather[\"Wind Speed\"] < 10) & (city_weather[\"Clouds\"]== 0)].dropna()\n",
    "narrowdown_df.head()"
   ]
  },
  {
   "source": [
    "## Using Google Place API to find the first hotel for each city located within 5000 meters of coodrdinates"
   ],
   "cell_type": "markdown",
   "metadata": {}
  },
  {
   "cell_type": "code",
   "execution_count": 127,
   "metadata": {},
   "outputs": [
    {
     "output_type": "execute_result",
     "data": {
      "text/plain": [
       "               City Country      Lat       Lng Hotel Name\n",
       "105        Catalina      US  32.5056 -110.9211           \n",
       "107           Aswān      EG  24.0934   32.9070           \n",
       "125          Assiut      EG  27.1810   31.1837           \n",
       "129  Port Macquarie      AU -31.4333  152.9167           \n",
       "309      Mossamedes      AO -15.1961   12.1522           "
      ],
      "text/html": "<div>\n<style scoped>\n    .dataframe tbody tr th:only-of-type {\n        vertical-align: middle;\n    }\n\n    .dataframe tbody tr th {\n        vertical-align: top;\n    }\n\n    .dataframe thead th {\n        text-align: right;\n    }\n</style>\n<table border=\"1\" class=\"dataframe\">\n  <thead>\n    <tr style=\"text-align: right;\">\n      <th></th>\n      <th>City</th>\n      <th>Country</th>\n      <th>Lat</th>\n      <th>Lng</th>\n      <th>Hotel Name</th>\n    </tr>\n  </thead>\n  <tbody>\n    <tr>\n      <th>105</th>\n      <td>Catalina</td>\n      <td>US</td>\n      <td>32.5056</td>\n      <td>-110.9211</td>\n      <td></td>\n    </tr>\n    <tr>\n      <th>107</th>\n      <td>Aswān</td>\n      <td>EG</td>\n      <td>24.0934</td>\n      <td>32.9070</td>\n      <td></td>\n    </tr>\n    <tr>\n      <th>125</th>\n      <td>Assiut</td>\n      <td>EG</td>\n      <td>27.1810</td>\n      <td>31.1837</td>\n      <td></td>\n    </tr>\n    <tr>\n      <th>129</th>\n      <td>Port Macquarie</td>\n      <td>AU</td>\n      <td>-31.4333</td>\n      <td>152.9167</td>\n      <td></td>\n    </tr>\n    <tr>\n      <th>309</th>\n      <td>Mossamedes</td>\n      <td>AO</td>\n      <td>-15.1961</td>\n      <td>12.1522</td>\n      <td></td>\n    </tr>\n  </tbody>\n</table>\n</div>"
     },
     "metadata": {},
     "execution_count": 127
    }
   ],
   "source": [
    "#Store into variable \n",
    "hotel = narrowdown_df.loc[:,[\"City\",\"Country\",\"Lat\",\"Lng\"]]\n",
    "\n",
    "#Add a column of \"Hotel Name\" to the DataFrame\n",
    "hotel[\"Hotel Name\"] = \"\"\n",
    "hotel.head()"
   ]
  },
  {
   "cell_type": "code",
   "execution_count": 128,
   "metadata": {},
   "outputs": [],
   "source": [
    "#Set parameters to find hotel for each city located within 5000 meters.\n",
    "base_url = \"https://maps.googleapis.com/maps/api/place/nearbysearch/json?\"\n",
    "\n",
    "params = {\n",
    "          \"radius\" : 5000,\n",
    "          \"type\" : \"lodging\",\n",
    "          \"keyword\" : \"Hotel\",\n",
    "          \"key\" : g_key\n",
    "}\n",
    "     \n",
    "    "
   ]
  },
  {
   "cell_type": "code",
   "execution_count": 133,
   "metadata": {},
   "outputs": [
    {
     "output_type": "stream",
     "name": "stdout",
     "text": [
      "Retrieving Results for Index 105: Catalina.\n",
      "Skipping.\n",
      "Retrieving Results for Index 107: Aswān.\n",
      "Skipping.\n",
      "Retrieving Results for Index 125: Assiut.\n",
      "Skipping.\n",
      "Retrieving Results for Index 129: Port Macquarie.\n",
      "Skipping.\n",
      "Retrieving Results for Index 309: Mossamedes.\n",
      "Skipping.\n",
      "Retrieving Results for Index 431: Kiama.\n",
      "Skipping.\n",
      "Retrieving Results for Index 446: Vila Velha.\n",
      "Skipping.\n",
      "Retrieving Results for Index 510: Seoul.\n",
      "Skipping.\n"
     ]
    }
   ],
   "source": [
    "# Use the latituda /longitude to identify airports\n",
    "for index, row in hotel.iterrows():\n",
    "    # get lat, lng , city name from hotel_df\n",
    "    lat = row[\"Lat\"]\n",
    "    lng = row[\"Lng\"]\n",
    "    city_name = row[\"City\"]\n",
    "    \n",
    "    params[\"location\"] = f\"{lat},{lng},{city_name}\"\n",
    "    \n",
    "    #Print Url\n",
    "    print(f\"Retrieving Results for Index {index}: {city_name}.\")\n",
    "    response = requests.get(base_url, params=params).json()\n",
    "    results = response['results']\n",
    "    \n",
    "    #Save the hotel name to the dataframe\n",
    "    try:\n",
    "        print(f\"Closest hotel in {city_name} is {results[0]['name']}.\")\n",
    "        hotel.loc[index, \"Hotel Name\"] = results[0]['name']\n",
    "    except (KeyError, IndexError):\n",
    "        print(\"Skipping.\")"
   ]
  },
  {
   "cell_type": "code",
   "execution_count": 134,
   "metadata": {},
   "outputs": [
    {
     "output_type": "execute_result",
     "data": {
      "text/plain": [
       "               City Country      Lat       Lng Hotel Name\n",
       "105        Catalina      US  32.5056 -110.9211           \n",
       "107           Aswān      EG  24.0934   32.9070           \n",
       "125          Assiut      EG  27.1810   31.1837           \n",
       "129  Port Macquarie      AU -31.4333  152.9167           \n",
       "309      Mossamedes      AO -15.1961   12.1522           "
      ],
      "text/html": "<div>\n<style scoped>\n    .dataframe tbody tr th:only-of-type {\n        vertical-align: middle;\n    }\n\n    .dataframe tbody tr th {\n        vertical-align: top;\n    }\n\n    .dataframe thead th {\n        text-align: right;\n    }\n</style>\n<table border=\"1\" class=\"dataframe\">\n  <thead>\n    <tr style=\"text-align: right;\">\n      <th></th>\n      <th>City</th>\n      <th>Country</th>\n      <th>Lat</th>\n      <th>Lng</th>\n      <th>Hotel Name</th>\n    </tr>\n  </thead>\n  <tbody>\n    <tr>\n      <th>105</th>\n      <td>Catalina</td>\n      <td>US</td>\n      <td>32.5056</td>\n      <td>-110.9211</td>\n      <td></td>\n    </tr>\n    <tr>\n      <th>107</th>\n      <td>Aswān</td>\n      <td>EG</td>\n      <td>24.0934</td>\n      <td>32.9070</td>\n      <td></td>\n    </tr>\n    <tr>\n      <th>125</th>\n      <td>Assiut</td>\n      <td>EG</td>\n      <td>27.1810</td>\n      <td>31.1837</td>\n      <td></td>\n    </tr>\n    <tr>\n      <th>129</th>\n      <td>Port Macquarie</td>\n      <td>AU</td>\n      <td>-31.4333</td>\n      <td>152.9167</td>\n      <td></td>\n    </tr>\n    <tr>\n      <th>309</th>\n      <td>Mossamedes</td>\n      <td>AO</td>\n      <td>-15.1961</td>\n      <td>12.1522</td>\n      <td></td>\n    </tr>\n  </tbody>\n</table>\n</div>"
     },
     "metadata": {},
     "execution_count": 134
    }
   ],
   "source": [
    "#Display the dataframe\n",
    "hotel.head()"
   ]
  },
  {
   "cell_type": "code",
   "execution_count": 135,
   "metadata": {},
   "outputs": [],
   "source": [
    "# Using the template to plot the hotels \n",
    "info_box_template = \"\"\"\n",
    "<dl>\n",
    "<dt>Name</dt><dd>{Hotel Name}</dd>\n",
    "<dt>City</dt><dd>{City}</dd>\n",
    "<dt>Country</dt><dd>{Country}</dd>\n",
    "</dl>\n",
    "\"\"\"\n",
    "# Store the DataFrame Row\n",
    "hotel_info = [info_box_template.format(**row) for index, row in hotel.iterrows()]\n",
    "locations = hotel[[\"Lat\", \"Lng\"]]"
   ]
  },
  {
   "cell_type": "code",
   "execution_count": 136,
   "metadata": {},
   "outputs": [
    {
     "output_type": "display_data",
     "data": {
      "text/plain": "Figure(layout=FigureLayout(border='1px solid black', height='600px', margin='0 auto 0 auto', padding='1px', wi…",
      "application/vnd.jupyter.widget-view+json": {
       "version_major": 2,
       "version_minor": 0,
       "model_id": "f4ccb3f883504c61b0654a9f963ac72b"
      }
     },
     "metadata": {}
    },
    {
     "output_type": "display_data",
     "data": {
      "text/plain": "<Figure size 432x288 with 0 Axes>"
     },
     "metadata": {}
    }
   ],
   "source": [
    "# Add marker layer ontop of heat map\n",
    "\n",
    "figure_layout = {\n",
    "    'width': '1000px',\n",
    "    'height': '600px',\n",
    "    'border': '1px solid black',\n",
    "    'padding': '1px',\n",
    "    'margin': '0 auto 0 auto'\n",
    "}\n",
    "figure2 = gmaps.figure(layout=figure_layout,zoom_level=2,center=(15,25))\n",
    "\n",
    "# Plot the hotels on top of the humidity heatmap\n",
    "hotellayer = gmaps.marker_layer(\n",
    "    locations,info_box_content=[info_box_template.format(**row) for index, row in hotel.iterrows()]\n",
    ")\n",
    "\n",
    "# Add heat layer and \n",
    "figure2.add_layer(heatlayer)\n",
    "figure2.add_layer(hotellayer)\n",
    "\n",
    "#save fig to file\n",
    "plt.savefig(\"Images/hotel_map.png\")\n",
    "\n",
    "# Display figure\n",
    "figure2"
   ]
  },
  {
   "cell_type": "code",
   "execution_count": null,
   "metadata": {},
   "outputs": [],
   "source": []
  }
 ],
 "metadata": {
  "kernelspec": {
   "name": "python3610jvsc74a57bd07783c310208e2220ad6d6fc90afdc6d32cf739b31923e90ca0c5a4e6f3536421",
   "display_name": "Python 3.6.10 64-bit ('pythondata': conda)"
  },
  "language_info": {
   "codemirror_mode": {
    "name": "ipython",
    "version": 3
   },
   "file_extension": ".py",
   "mimetype": "text/x-python",
   "name": "python",
   "nbconvert_exporter": "python",
   "pygments_lexer": "ipython3",
   "version": "3.6.10"
  }
 },
 "nbformat": 4,
 "nbformat_minor": 4
}